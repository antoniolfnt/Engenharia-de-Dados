{
  "cells": [
    {
      "cell_type": "markdown",
      "metadata": {
        "id": "view-in-github",
        "colab_type": "text"
      },
      "source": [
        "<a href=\"https://colab.research.google.com/github/antoniolfnt/Engenharia-de-Dados/blob/main/Aula_Data_Quality.ipynb\" target=\"_parent\"><img src=\"https://colab.research.google.com/assets/colab-badge.svg\" alt=\"Open In Colab\"/></a>"
      ]
    },
    {
      "cell_type": "markdown",
      "metadata": {
        "id": "loWCEt3zSKc9"
      },
      "source": [
        "<h1> Data Quality - Análise e Monitoramento </h1>\n",
        "<br>Anderson Oliveira\n",
        "<br>set/2020"
      ]
    },
    {
      "cell_type": "markdown",
      "metadata": {
        "id": "GhjHYP3_SKdA"
      },
      "source": [
        "<h3>Passos</h3>\n",
        "<br>\n",
        "1- Instalando a libs\n",
        "\n",
        "2- Análise dos dados\n",
        "\n",
        "    Entendendo a base (data profiling / Documentação)\n",
        "    Definindo as dimensões a serem aplicadas (repositório de regras)\n",
        "3- Monitoramento dos dados\n",
        "\n",
        "    Criando os componentes para executar as avaliações (great_expectations)\n",
        "    Gerando um dashboard para acompanhamento (map)"
      ]
    },
    {
      "cell_type": "markdown",
      "metadata": {
        "id": "cHl5--0tSKdD"
      },
      "source": [
        "<h3>1- Instalando as libs</h3>"
      ]
    },
    {
      "cell_type": "code",
      "execution_count": null,
      "metadata": {
        "id": "VW91kUI7SKdF"
      },
      "outputs": [],
      "source": [
        "pip install pandas"
      ]
    },
    {
      "cell_type": "code",
      "execution_count": null,
      "metadata": {
        "id": "tLE-UCAjSKdH"
      },
      "outputs": [],
      "source": [
        "pip install great_expectations # https://greatexpectations.io/"
      ]
    },
    {
      "cell_type": "markdown",
      "metadata": {
        "id": "mOvM06QnSKdI"
      },
      "source": [
        "<h3>2- Análise de dados</h3> "
      ]
    },
    {
      "cell_type": "markdown",
      "metadata": {
        "id": "h7YE9efwSKdI"
      },
      "source": [
        "<h6>Antes de definir as regras que serão aplicadas no processo de data quality, é importante conhecer o perfil da base/tabela que iremos aferir qualidade. Para isso podemos analisar o profiling (conforme citado na aula de profiling) juntamente com a documentação (metadados) da base. Após esta análise iremos compor nosso repositório de regras <br><br>\n",
        "Nota: nesta aula iremos abordar apenas as dimensões Completude, Unicidade, Consistência e Razoabilidade.</h6>"
      ]
    },
    {
      "cell_type": "code",
      "execution_count": null,
      "metadata": {
        "id": "VAS2Y-cQSKdI"
      },
      "outputs": [],
      "source": [
        "import pandas as pd\n",
        "\n",
        "data = {'nome_coluna':  ['cd_ibge', 'id_familia', 'cod_calcamento_domic_fam', 'vlr_renda_media_fam'],# coluna que será avaliada\n",
        "        'dimensao': ['Completude', 'Unicidade', 'Consistencia', 'Razoabilidade'],# dimensão avaliada na coluna\n",
        "        'parametro':[None, None, [1,2,3], {'min': 0, 'max': 500}], # parâmetro definido para algumas dimensões\n",
        "        'percentual_esperado_corretos':[100, 95, 100, 85]} # percentual esperado de conformidades\n",
        "\n",
        "df_rules = pd.DataFrame (data, columns = ['nome_coluna','dimensao', 'parametro','percentual_esperado_corretos'])\n",
        "display(df_rules)"
      ]
    },
    {
      "cell_type": "code",
      "execution_count": null,
      "metadata": {
        "id": "8JvEoTZ5SKdL"
      },
      "outputs": [],
      "source": [
        "import pandas as pd\n",
        "\n",
        "data = {'nome_coluna':  ['cd_ibge', 'id_familia', 'cod_calcamento_domic_fam', 'vlr_renda_media_fam', 'cd_ibge', 'cod_material_piso_fam', 'cod_material_piso_fam', 'cod_material_piso_fam', 'cod_agua_canalizada_fam','peso.fam', 'nom_estab_assist_saude_fam'],\n",
        "        'dimensao': ['Completude', 'Unicidade', 'Consistencia', 'Razoabilidade', 'Unicidade', 'Completude', 'Unicidade', 'Consistencia', 'Completude', 'Razoabilidade', 'Completude'],\n",
        "        'parametro':[None, None, [1,2,3], {'min': 0, 'max': 500}, None, None, None, [True, False], None, {'min': 4, 'max': 10}, None],\n",
        "        'percentual_esperado_corretos':[100, 100, 100, 100, 100, 100, 100, 100, 100, 100, 100]}\n",
        "\n",
        "df_rules = pd.DataFrame (data, columns = ['nome_coluna','dimensao', 'parametro','percentual_esperado_corretos'])"
      ]
    },
    {
      "cell_type": "markdown",
      "metadata": {
        "id": "Ej9e9_hNSKdM"
      },
      "source": [
        "<h3>3- Monitoramento dos dados</h3>"
      ]
    },
    {
      "cell_type": "markdown",
      "metadata": {
        "id": "DHFJue60SKdO"
      },
      "source": [
        "<h4>Criando os componentes para executar as avaliações (great_expectations)</h4>"
      ]
    },
    {
      "cell_type": "code",
      "execution_count": null,
      "metadata": {
        "id": "GiPuLR21SKdP"
      },
      "outputs": [],
      "source": [
        "import great_expectations as ge\n",
        "import json\n",
        "\n",
        "df_db = pd.read_csv('base_bolsa_familia.csv',';')\n",
        "\n",
        "df_db = ge.dataset.PandasDataset(df_db)"
      ]
    },
    {
      "cell_type": "code",
      "execution_count": null,
      "metadata": {
        "id": "CElPzSb1SKdP"
      },
      "outputs": [],
      "source": [
        "df_rules['json_result'] = df_rules.apply(lambda row: \n",
        "                                  df_db.expect_column_values_to_not_be_null(row.nome_coluna).to_json_dict() \n",
        "                                  if row.dimensao == 'Completude' \n",
        "                                  else \n",
        "                                    (df_db.expect_column_values_to_be_unique(row.nome_coluna).to_json_dict() \n",
        "                                     if row.dimensao == 'Unicidade' \n",
        "                                     else \n",
        "                                      (df_db.expect_column_values_to_be_in_set(row.nome_coluna,row.parametro).to_json_dict()\n",
        "                                       if row.dimensao == 'Consistencia'\n",
        "                                       else \n",
        "                                        (df_db.expect_column_values_to_be_between(row.nome_coluna, row.parametro['min'], row.parametro['max']).to_json_dict()\n",
        "                                         if row.dimensao == 'Razoabilidade'\n",
        "                                         else None))), axis = 1)\n",
        "\n",
        "df_rules['resultado']= df_rules.apply(lambda row: \n",
        "                                       True if 100 - row.json_result['result']['unexpected_percent'] >= row.percentual_esperado_corretos\n",
        "                                            else False, axis=1)\n",
        "display(df_rules)"
      ]
    },
    {
      "cell_type": "markdown",
      "metadata": {
        "id": "dhAYJax5SKdQ"
      },
      "source": [
        "<h4>Gerando um dashboard para acompanhamento (map)</h4>"
      ]
    },
    {
      "cell_type": "code",
      "execution_count": null,
      "metadata": {
        "id": "prneBRZDSKdR"
      },
      "outputs": [],
      "source": [
        "#df = df_rules.groupby('dimensao')['dimensao'].count().reset_index(name='Count')\n",
        "por_tabela = df_rules.groupby([\"resultado\"])['resultado'].count().reset_index(name='Count')\n",
        "por_tabela = pd.pivot_table(por_tabela, values = 'Count', index=['resultado'], columns = 'resultado')\n",
        "por_dimensao = df_rules.groupby([\"dimensao\", \"resultado\"])['resultado'].count().reset_index(name='Count')\n",
        "por_dimensao = pd.pivot_table(por_dimensao, values = 'Count', index=['dimensao'], columns = 'resultado')\n",
        "por_coluna = df_rules.groupby([\"nome_coluna\", \"resultado\"])['resultado'].count().reset_index(name='Count')\n",
        "por_coluna = pd.pivot_table(por_coluna, values = 'Count', index=['nome_coluna'], columns = 'resultado')"
      ]
    },
    {
      "cell_type": "code",
      "execution_count": null,
      "metadata": {
        "id": "12zeU7ZqSKdR"
      },
      "outputs": [],
      "source": [
        "ax = por_tabela.plot.barh(rot=0)"
      ]
    },
    {
      "cell_type": "code",
      "execution_count": null,
      "metadata": {
        "id": "atyUgsshSKdS"
      },
      "outputs": [],
      "source": [
        "ax = por_dimensao.plot.barh(rot=0)"
      ]
    },
    {
      "cell_type": "code",
      "execution_count": null,
      "metadata": {
        "id": "gRpKZTK7SKdS"
      },
      "outputs": [],
      "source": [
        "ax = por_coluna.plot.barh(rot=0)"
      ]
    },
    {
      "cell_type": "code",
      "execution_count": null,
      "metadata": {
        "id": "UCvyAA9USKdT"
      },
      "outputs": [],
      "source": []
    }
  ],
  "metadata": {
    "kernelspec": {
      "display_name": "Python 3",
      "language": "python",
      "name": "python3"
    },
    "language_info": {
      "codemirror_mode": {
        "name": "ipython",
        "version": 3
      },
      "file_extension": ".py",
      "mimetype": "text/x-python",
      "name": "python",
      "nbconvert_exporter": "python",
      "pygments_lexer": "ipython3",
      "version": "3.8.5"
    },
    "colab": {
      "provenance": [],
      "include_colab_link": true
    }
  },
  "nbformat": 4,
  "nbformat_minor": 0
}